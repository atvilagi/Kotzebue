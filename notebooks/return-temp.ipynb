{
 "cells": [
  {
   "cell_type": "markdown",
   "metadata": {},
   "source": [
    "This gets a unix timestamp input, converts it to a pandas compatible datetime, runs it against known hourly data, and returns a temperature. Linear interpolation will be used between two hourly data points. \n",
    "\n",
    "Maybe some optimization could be done if the two hourly temps have changed less than a certain amount."
   ]
  },
  {
   "cell_type": "code",
   "execution_count": 2,
   "metadata": {},
   "outputs": [],
   "source": [
    "from netCDF4 import Dataset, MFDataset, num2date\n",
    "import pandas as pd\n",
    "import numpy as np\n",
    "from zipfile import ZipFile\n",
    "import matplotlib.pyplot as plt\n",
    "import matplotlib as ply\n",
    "from datetime import datetime, timedelta\n",
    "\n",
    "at_data = Dataset(\"../data/air_temperature.nc\")\n",
    "air_temperature = at_data.variables['air_temperature'][:]\n",
    "time = at_data.variables['time'][:]"
   ]
  },
  {
   "cell_type": "code",
   "execution_count": 5,
   "metadata": {},
   "outputs": [],
   "source": [
    "time_var = at_data.variables['time']\n",
    "dates = num2date(time[:], time_var.units)\n",
    "dates_pd = pd.to_datetime(dates)"
   ]
  },
  {
   "cell_type": "code",
   "execution_count": 6,
   "metadata": {},
   "outputs": [],
   "source": [
    "df = pd.DataFrame(dates_pd,columns=['Date'])\n",
    "df['air_temperature'] = air_temperature[:]\n",
    "df = df.set_index('Date')"
   ]
  },
  {
   "cell_type": "code",
   "execution_count": 86,
   "metadata": {},
   "outputs": [
    {
     "data": {
      "text/plain": [
       "pandas.core.indexes.datetimes.DatetimeIndex"
      ]
     },
     "execution_count": 86,
     "metadata": {},
     "output_type": "execute_result"
    }
   ],
   "source": [
    "pumaRange = df.loc['2018-10':'2019-05']\n",
    "type(pumaRange.index)"
   ]
  },
  {
   "cell_type": "markdown",
   "metadata": {},
   "source": [
    "The way the algorithm will work is that it will check the timestamp that is input and see if it is +/- 15 minutes from the top of the hour. If it is, then the returned temperature will just be that hourly datapoint. If it is not, then two weather points before and after the input time, then the returned temperature will be an interpolation between the two"
   ]
  },
  {
   "cell_type": "code",
   "execution_count": 150,
   "metadata": {},
   "outputs": [
    {
     "name": "stdout",
     "output_type": "stream",
     "text": [
      "2232\n",
      "2019-01-02 00:00:00: 30.02F\n",
      "0 days 00:06:36\n",
      "30.02\n",
      "\r\n",
      "\n",
      "2230\n",
      "2019-01-01 22:00:00: 25.88F\n",
      "-1 days +23:36:36\n",
      "¯\\_(ツ)_/¯\n",
      "\r\n",
      "\n",
      "2230\n",
      "2019-01-01 22:00:00: 25.88F\n",
      "-1 days +23:49:48\n",
      "25.88\n",
      "\r\n",
      "\n",
      "2231\n",
      "2019-01-01 23:00:00: 26.24F\n",
      "0 days 00:24:48\n",
      "¯\\_(ツ)_/¯\n"
     ]
    }
   ],
   "source": [
    "def outdoorTemp(inUnix):\n",
    "    pumaPoint = datetime.utcfromtimestamp(inUnix)\n",
    "    nearestIndex = pumaRange.index.get_loc(pumaPoint,method='nearest')\n",
    "    \n",
    "    print(nearestIndex)\n",
    "    nearestTemp = pumaRange.iloc[nearestIndex]\n",
    "    print(str(nearestTemp.name) + ': ' + str(nearestTemp.air_temperature) + 'F')\n",
    "\n",
    "    timeDiff = nearestTemp.name - pumaPoint #timeDelta\n",
    "    #in this expression, when the point is ahead, the day=0\n",
    "    #when the point is behind, the day=-1\n",
    "    print(timeDiff)\n",
    "    \n",
    "    if abs(timeDiff) < timedelta(minutes = 15):\n",
    "        #less than 15 minutes from an hour\n",
    "        return(nearestTemp.air_temperature)\n",
    "    elif timeDiff.days == -1:\n",
    "        #greater than 15 minutes from the hour\n",
    "        #and goes to previous hour\n",
    "        return('¯\\_(ツ)_/¯')\n",
    "    else:\n",
    "        #greater than 15 minutes from the hour\n",
    "        #and goes to next hour\n",
    "        return('¯\\_(ツ)_/¯')\n",
    "    \n",
    "print(outdoorTemp(1546386804)) #2019-1-1 23:53:24 goes to the next hour, less that 15 min\n",
    "print('\\r\\n')\n",
    "print(outdoorTemp(1546381404)) #2019-1-1 22:23:24 goes to the previous hour, more than 15\n",
    "print('\\r\\n')\n",
    "print(outdoorTemp(1546380612)) #2019-1-1 22:10:12 goes to the previous hour, less than 15\n",
    "print('\\r\\n')\n",
    "print(outdoorTemp(1546382112)) #2019-1-1 22:35:12 goes to the next hour, more than 15"
   ]
  }
 ],
 "metadata": {
  "kernelspec": {
   "display_name": "Python 3",
   "language": "python",
   "name": "python3"
  },
  "language_info": {
   "codemirror_mode": {
    "name": "ipython",
    "version": 3
   },
   "file_extension": ".py",
   "mimetype": "text/x-python",
   "name": "python",
   "nbconvert_exporter": "python",
   "pygments_lexer": "ipython3",
   "version": "3.6.7"
  }
 },
 "nbformat": 4,
 "nbformat_minor": 2
}
