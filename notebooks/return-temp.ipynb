{
 "cells": [
  {
   "cell_type": "markdown",
   "metadata": {},
   "source": [
    "This gets a unix timestamp input, converts it to a pandas compatible datetime, runs it against known hourly data, and returns a temperature. Linear interpolation will be used between two hourly data points. \n",
    "\n",
    "Maybe some optimization could be done if the two hourly temps have changed less than a certain amount."
   ]
  },
  {
   "cell_type": "code",
   "execution_count": 2,
   "metadata": {},
   "outputs": [],
   "source": [
    "from netCDF4 import Dataset, MFDataset, num2date\n",
    "import pandas as pd\n",
    "import numpy as np\n",
    "from zipfile import ZipFile\n",
    "import matplotlib.pyplot as plt\n",
    "import matplotlib as ply\n",
    "from datetime import datetime, timedelta\n",
    "\n",
    "at_data = Dataset(\"../data/air_temperature.nc\")\n",
    "air_temperature = at_data.variables['air_temperature'][:]\n",
    "time = at_data.variables['time'][:]"
   ]
  },
  {
   "cell_type": "code",
   "execution_count": 5,
   "metadata": {},
   "outputs": [],
   "source": [
    "time_var = at_data.variables['time']\n",
    "dates = num2date(time[:], time_var.units)\n",
    "dates_pd = pd.to_datetime(dates)"
   ]
  },
  {
   "cell_type": "code",
   "execution_count": 6,
   "metadata": {},
   "outputs": [],
   "source": [
    "df = pd.DataFrame(dates_pd,columns=['Date'])\n",
    "df['air_temperature'] = air_temperature[:]\n",
    "df = df.set_index('Date')"
   ]
  },
  {
   "cell_type": "code",
   "execution_count": 8,
   "metadata": {},
   "outputs": [],
   "source": [
    "pumaRange = df.loc['2018-10':'2019-05']\n"
   ]
  }
 ],
 "metadata": {
  "kernelspec": {
   "display_name": "Python 3",
   "language": "python",
   "name": "python3"
  },
  "language_info": {
   "codemirror_mode": {
    "name": "ipython",
    "version": 3
   },
   "file_extension": ".py",
   "mimetype": "text/x-python",
   "name": "python",
   "nbconvert_exporter": "python",
   "pygments_lexer": "ipython3",
   "version": "3.6.7"
  }
 },
 "nbformat": 4,
 "nbformat_minor": 2
}
