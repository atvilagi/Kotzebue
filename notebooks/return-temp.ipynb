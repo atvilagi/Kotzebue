{
 "cells": [
  {
   "cell_type": "markdown",
   "metadata": {},
   "source": [
    "This gets a unix timestamp input, converts it to a pandas compatible datetime, runs it against known hourly data, and returns a temperature. Linear interpolation will be used between two hourly data points. \n",
    "\n",
    "Maybe some optimization could be done if the two hourly temps have changed less than a certain amount."
   ]
  },
  {
   "cell_type": "code",
   "execution_count": 1,
   "metadata": {},
   "outputs": [],
   "source": [
    "from netCDF4 import Dataset, MFDataset, num2date\n",
    "import pandas as pd\n",
    "import numpy as np\n",
    "from datetime import datetime, timedelta\n",
    "import time\n",
    "\n",
    "at_data = Dataset(\"../data/air_temperature.nc\")\n",
    "air_temperature = at_data.variables['air_temperature'][:]\n",
    "at_time = at_data.variables['time'][:]"
   ]
  },
  {
   "cell_type": "code",
   "execution_count": 2,
   "metadata": {},
   "outputs": [],
   "source": [
    "time_var = at_data.variables['time']\n",
    "dates = num2date(at_time[:], time_var.units)\n",
    "dates_pd = pd.to_datetime(dates)"
   ]
  },
  {
   "cell_type": "code",
   "execution_count": 3,
   "metadata": {},
   "outputs": [],
   "source": [
    "df = pd.DataFrame(dates_pd,columns=['Date'])\n",
    "df['air_temperature'] = air_temperature[:]\n",
    "df = df.set_index('Date')"
   ]
  },
  {
   "cell_type": "code",
   "execution_count": 9,
   "metadata": {},
   "outputs": [
    {
     "data": {
      "text/plain": [
       "datetime.datetime"
      ]
     },
     "execution_count": 9,
     "metadata": {},
     "output_type": "execute_result"
    }
   ],
   "source": [
    "pumaRange = df.loc['2018-10':'2019-05']\n",
    "type(pumaRange.iloc[-1].name.to_pydatetime())"
   ]
  },
  {
   "cell_type": "markdown",
   "metadata": {},
   "source": [
    "The way the algorithm will work is that it will check the timestamp that is input and see if it is +/- 15 minutes from the top of the hour. If it is, then the returned temperature will just be that hourly datapoint. If it is not, then two weather points before and after the input time, then the returned temperature will be an interpolation between the two"
   ]
  },
  {
   "cell_type": "code",
   "execution_count": 17,
   "metadata": {},
   "outputs": [
    {
     "ename": "Exception",
     "evalue": "Error: date provided out of bounds",
     "output_type": "error",
     "traceback": [
      "\u001b[0;31m---------------------------------------------------------------------------\u001b[0m",
      "\u001b[0;31mException\u001b[0m                                 Traceback (most recent call last)",
      "\u001b[0;32m<ipython-input-17-3dda4b68068d>\u001b[0m in \u001b[0;36m<module>\u001b[0;34m\u001b[0m\n\u001b[1;32m     48\u001b[0m         \u001b[0;32mreturn\u001b[0m\u001b[0;34m(\u001b[0m\u001b[0mround\u001b[0m\u001b[0;34m(\u001b[0m\u001b[0mnp\u001b[0m\u001b[0;34m.\u001b[0m\u001b[0minterp\u001b[0m\u001b[0;34m(\u001b[0m\u001b[0mtime\u001b[0m\u001b[0;34m.\u001b[0m\u001b[0mmktime\u001b[0m\u001b[0;34m(\u001b[0m\u001b[0mpumaPoint\u001b[0m\u001b[0;34m.\u001b[0m\u001b[0mtimetuple\u001b[0m\u001b[0;34m(\u001b[0m\u001b[0;34m)\u001b[0m\u001b[0;34m)\u001b[0m\u001b[0;34m,\u001b[0m \u001b[0mxpToo\u001b[0m\u001b[0;34m,\u001b[0m \u001b[0mfpToo\u001b[0m\u001b[0;34m)\u001b[0m\u001b[0;34m,\u001b[0m \u001b[0;36m2\u001b[0m\u001b[0;34m)\u001b[0m\u001b[0;34m)\u001b[0m\u001b[0;34m\u001b[0m\u001b[0;34m\u001b[0m\u001b[0m\n\u001b[1;32m     49\u001b[0m \u001b[0;34m\u001b[0m\u001b[0m\n\u001b[0;32m---> 50\u001b[0;31m \u001b[0mprint\u001b[0m\u001b[0;34m(\u001b[0m\u001b[0moutdoorTemp\u001b[0m\u001b[0;34m(\u001b[0m\u001b[0;36m1500000000\u001b[0m\u001b[0;34m)\u001b[0m\u001b[0;34m)\u001b[0m\u001b[0;34m\u001b[0m\u001b[0;34m\u001b[0m\u001b[0m\n\u001b[0m",
      "\u001b[0;32m<ipython-input-17-3dda4b68068d>\u001b[0m in \u001b[0;36moutdoorTemp\u001b[0;34m(inUnix)\u001b[0m\n\u001b[1;32m      8\u001b[0m \u001b[0;34m\u001b[0m\u001b[0m\n\u001b[1;32m      9\u001b[0m     \u001b[0;32mif\u001b[0m \u001b[0mpumaPoint\u001b[0m \u001b[0;34m<\u001b[0m \u001b[0mdataStart\u001b[0m \u001b[0;32mor\u001b[0m \u001b[0mpumaPoint\u001b[0m \u001b[0;34m>\u001b[0m \u001b[0mdataEnd\u001b[0m\u001b[0;34m:\u001b[0m\u001b[0;34m\u001b[0m\u001b[0;34m\u001b[0m\u001b[0m\n\u001b[0;32m---> 10\u001b[0;31m         \u001b[0;32mraise\u001b[0m \u001b[0mException\u001b[0m\u001b[0;34m(\u001b[0m\u001b[0;34m'Error: date provided out of bounds'\u001b[0m\u001b[0;34m)\u001b[0m\u001b[0;34m\u001b[0m\u001b[0;34m\u001b[0m\u001b[0m\n\u001b[0m\u001b[1;32m     11\u001b[0m     \u001b[0mnearestIndex\u001b[0m \u001b[0;34m=\u001b[0m \u001b[0mpumaRange\u001b[0m\u001b[0;34m.\u001b[0m\u001b[0mindex\u001b[0m\u001b[0;34m.\u001b[0m\u001b[0mget_loc\u001b[0m\u001b[0;34m(\u001b[0m\u001b[0mpumaPoint\u001b[0m\u001b[0;34m,\u001b[0m \u001b[0mmethod\u001b[0m\u001b[0;34m=\u001b[0m\u001b[0;34m'nearest'\u001b[0m\u001b[0;34m)\u001b[0m\u001b[0;34m\u001b[0m\u001b[0;34m\u001b[0m\u001b[0m\n\u001b[1;32m     12\u001b[0m \u001b[0;34m\u001b[0m\u001b[0m\n",
      "\u001b[0;31mException\u001b[0m: Error: date provided out of bounds"
     ]
    }
   ],
   "source": [
    "def outdoorTemp(inUnix):\n",
    "    #BEWARE: incoming data is offset from UTC by -8 hours\n",
    "    #or 28,800 seconds\n",
    "    pumaPoint = datetime.utcfromtimestamp(inUnix - 28800)\n",
    "   \n",
    "    dataStart = pumaRange.iloc[0].name.to_pydatetime()\n",
    "    dataEnd = pumaRange.iloc[-1].name.to_pydatetime()\n",
    "    \n",
    "    if pumaPoint < dataStart or pumaPoint > dataEnd:\n",
    "        raise Exception('Error: date provided out of bounds')\n",
    "    nearestIndex = pumaRange.index.get_loc(pumaPoint, method='nearest')\n",
    "    \n",
    "    #print(nearestIndex)\n",
    "    nearestTemp = pumaRange.iloc[nearestIndex]\n",
    "    #print(str(nearestTemp.name) + ': ' + str(nearestTemp.air_temperature) + 'F')\n",
    "\n",
    "    timeDiff = nearestTemp.name - pumaPoint #timeDelta\n",
    "    #in this expression, when the point is ahead, the day=0\n",
    "    #when the point is behind, the day=-1\n",
    "    #print(timeDiff)\n",
    "    \n",
    "    if abs(timeDiff) < timedelta(minutes = 15):\n",
    "        #less than 15 minutes from an hour\n",
    "        return(nearestTemp.air_temperature)\n",
    "    elif timeDiff.days == -1:\n",
    "        #greater than 15 minutes from the hour\n",
    "        #and goes to previous hour\n",
    "        #so look forward to interpolate\n",
    "        \n",
    "        #have to convert pandas timestamp to datetime to python timestamp\n",
    "        xpRaw = [nearestTemp.name.to_pydatetime(), pumaRange.iloc[nearestIndex + 1].name.to_pydatetime()]\n",
    "        xp = np.array([time.mktime(d.timetuple()) for d in xpRaw])\n",
    "        \n",
    "        fp = [nearestTemp.air_temperature, pumaRange.iloc[nearestIndex + 1].air_temperature]\n",
    "        #print(type(pumaPoint))\n",
    "        \n",
    "        return(round(np.interp(time.mktime(pumaPoint.timetuple()), xp, fp), 2))\n",
    "    else:\n",
    "        #greater than 15 minutes from the hour\n",
    "        #and goes to next hour\n",
    "        #so look backward to interpolate\n",
    "        \n",
    "        xpRawToo = [pumaRange.iloc[nearestIndex - 1].name.to_pydatetime(), nearestTemp.name.to_pydatetime()]\n",
    "        xpToo = np.array([time.mktime(d.timetuple()) for d in xpRawToo])\n",
    "        \n",
    "        fpToo = [pumaRange.iloc[nearestIndex - 1].air_temperature, nearestTemp.air_temperature]\n",
    "        \n",
    "        return(round(np.interp(time.mktime(pumaPoint.timetuple()), xpToo, fpToo), 2))\n",
    "\n",
    "print(outdoorTemp(1500000000))"
   ]
  },
  {
   "cell_type": "code",
   "execution_count": 18,
   "metadata": {},
   "outputs": [
    {
     "name": "stdout",
     "output_type": "stream",
     "text": [
      "31.82\n",
      "\r\n",
      "\n",
      "28.78\n",
      "\r\n",
      "\n",
      "25.34\n",
      "\r\n",
      "\n",
      "30.51\n"
     ]
    }
   ],
   "source": [
    "print(outdoorTemp(1546386804)) #2019-1-1 23:53:24 goes to the next hour, less that 15 min\n",
    "print('\\r\\n')\n",
    "print(outdoorTemp(1546381404)) #2019-1-1 22:23:24 goes to the previous hour, more than 15\n",
    "print('\\r\\n')\n",
    "print(outdoorTemp(1546380612)) #2019-1-1 22:10:12 goes to the previous hour, less than 15\n",
    "print('\\r\\n')\n",
    "print(outdoorTemp(1546382112)) #2019-1-1 22:35:12 goes to the next hour, more than 15"
   ]
  }
 ],
 "metadata": {
  "kernelspec": {
   "display_name": "Python 3",
   "language": "python",
   "name": "python3"
  },
  "language_info": {
   "codemirror_mode": {
    "name": "ipython",
    "version": 3
   },
   "file_extension": ".py",
   "mimetype": "text/x-python",
   "name": "python",
   "nbconvert_exporter": "python",
   "pygments_lexer": "ipython3",
   "version": "3.6.7"
  }
 },
 "nbformat": 4,
 "nbformat_minor": 2
}
