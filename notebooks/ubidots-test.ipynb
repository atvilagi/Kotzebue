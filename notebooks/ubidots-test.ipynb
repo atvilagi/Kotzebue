{
 "cells": [
  {
   "cell_type": "code",
   "execution_count": 6,
   "metadata": {},
   "outputs": [
    {
     "name": "stdout",
     "output_type": "stream",
     "text": [
      "plotly version:  3.8.0\n",
      "cwd:  /home/dayne/acep/projects/fuelmeter-tools/notebooks\n",
      "env_path:  /home/dayne/acep/projects/fuelmeter-tools/notebooks/../.env\n",
      "found .env at: /home/dayne/acep/projects/fuelmeter-tools/notebooks/../.env\n",
      "GOOD -- UBIDOTS_KEY is set to something\n"
     ]
    }
   ],
   "source": [
    "import os\n",
    "\n",
    "import plotly\n",
    "print(\"plotly version: \",plotly.__version__)\n",
    "\n",
    "from dotenv import load_dotenv\n",
    "from pathlib import Path\n",
    "cwd_path = Path().resolve()\n",
    "print(\"cwd: \",cwd_path)\n",
    "\n",
    "env_path = Path(cwd_path)/'..'/'.env'\n",
    "print(\"env_path: \",env_path)\n",
    "\n",
    "if(os.path.isfile(env_path)):\n",
    "    print(\"found .env at:\",env_path)\n",
    "    load_dotenv(dotenv_path=env_path)\n",
    "    # parsed key/value from .env now present as system environet variables\n",
    "else:\n",
    "    print(\"unable to find .env - skipping .env load\")\n",
    "\n",
    "if (os.environ.get('UBIDOTS_KEY') != 'None' ):\n",
    "    print(\"GOOD -- UBIDOTS_KEY is set to something\")\n",
    "else:\n",
    "    print(\"BAD -- UBIDOTS_KEY is not set\")"
   ]
  },
  {
   "cell_type": "code",
   "execution_count": 7,
   "metadata": {},
   "outputs": [],
   "source": [
    "from ubidots import ApiClient\n",
    "api = ApiClient(token=os.environ['UBIDOTS_KEY'])"
   ]
  },
  {
   "cell_type": "code",
   "execution_count": 16,
   "metadata": {},
   "outputs": [
    {
     "name": "stdout",
     "output_type": "stream",
     "text": [
      "[CRIPPL, FBK045, ATV000, FBK044, BAXDSK, FBK043, FBK042, TAL006, TAL011, TAL007, TAL005, TAL010, TAL008, TAL003, TAL002, TAL009, FBK041, FBK040, FBK039, FBK038, FBK037, FBK036, FBK035, FBK034, FBK028, FBK018, FBK033, FBK032, FBK031, FBK030, FBK029, FBK027, FBK026, FBK025, FBK024, FBK023, FBK022, FBK021 uninstalled, FBK019 uninstalled, FBK020, FBK016, FBK017, FBK015, FBK014, FBK012, FBK013, FBK011, FBK010, FBK009, FBK008, FBK007, FBK006, FBK005, FBK004, FBK003, FBK002, FBK001, FBK000, UAFLAB]\n"
     ]
    }
   ],
   "source": [
    "datasources = api.get_datasources()\n",
    "print(datasources)"
   ]
  },
  {
   "cell_type": "code",
   "execution_count": 57,
   "metadata": {
    "scrolled": true
   },
   "outputs": [
    {
     "name": "stdout",
     "output_type": "stream",
     "text": [
      "CRIPPL\n",
      "---- Variables: \n",
      "[CSQ, Thermistor, Clicks, mode, CSQ, Daily Gallons, Spent Gallons, Total gallons, Temperature, Temperature-Raw, Thermistor Resistance, Total Clicks, Heater Mode, Daily Gallons, Spent gallons, Total Gallons, Temperature, Temperature Raw, Thermistor Resistance, Total Clicks, Heater Mode, Daily Gallons, Spent Gallons, Total gallons, Temperature, Temperature-Raw, Thermistor Resistance, Total Clicks, Heater Mode, Daily Gallons, Spent Gallons, Total gallons, Temperature, Temperature-Raw, Thermistor Resistance, Total Clicks, Heater Mode, Daily Gallons, Spent Gallons, Total gallons, Temperature, Temperature-Raw, Daily Gallons, Spent gallons, Total gallons, Temperature, Temperature Raw, Thermistor Resistance, Total Clicks, Heater Mode, Thermistor Resistance, Total Clicks, Heater Mode, Thermistor, Clicks, mode, Thermistor, Clicks, mode, Thermistor, Clicks, mode, Thermistor, Clicks, mode, Thermistor, Clicks, mode, Thermistor, Clicks, mode, Thermistor, Clicks, mode, Daily Gallons, Spent gallons, Total gallons, Temperature, Temperature Raw, Daily Gallons, Spent Gallons, Total gallons, Temperature, Temperature-Raw, Thermistor Resistance, Total Clicks, Heater Mode, Thermistor Resistance, Total Clicks, Heater Mode, Daily Gallons, Spent gallons, Total Gallons, Temperature, Temperature Raw, Daily Gallons, Spent gallons, Total Gallons, Temperature, Temperature Raw, Daily Gallons, Spent gallons, Daily Gallons, Spent gallons, Daily Gallons, Spent gallons, Daily Gallons, Spent gallons, Daily Gallons, Spent gallons, Daily Gallons, Spent gallons, Daily Gallons, Spent gallons, Total gallons, Temperature, Temperature Raw, Daily Gallons, Spent Gallons, Total gallons, Temperature, Temperature-Raw, Daily Gallons, Spent Gallons, Total gallons, Temperature, Temperature-Raw, Thermistor Resistance, Total Clicks, Heater Mode, Thermistor Resistance, Total Clicks, Heater Mode, Thermistor Resistance, Total Clicks, Heater Mode, Daily Gallons, Spent Gallons, Total gallons, Temperature, Temperature-Raw, Daily Gallons, Spent gallons, Total gallons, Temperature, Temperature Raw, Thermistor Resistance, Total Clicks, Heater Mode, Thermistor Resistance, Total Clicks, Heater Mode, Daily Gallons, Spent Gallons, Total gallons, Temperature, Temperature-Raw, Daily Gallons, Spent Gallons, Total gallons, Temperature, Temperature-Raw, Daily Gallons, Spent Gallons, Total gallons, Temperature, Temperature-Raw, Thermistor Resistance, Total Clicks, Heater Mode, Thermistor Resistance, Total Clicks, Heater Mode, Thermistor Resistance, Total Clicks, Heater Mode, Total Gallons, Temperature, Temperature Raw, Daily Gallons, Spent gallons, Total gallons, Temperature, Temperature Raw, Daily Gallons, Spent gallons, Total gallons, Temperature, Temperature Raw, Daily Gallons, Spent Gallons, Total Gallons, Temperature, Temperature Raw, Daily Gallons, Spent Gallons, Total gallons, Temperature, Temperature-Raw, Total gallons, Temperature, Temperature-Raw, Heater Mode, Total Clicks, Thermistor Resistance, Thermistor Resistance, Total Clicks, Heater Mode, Thermistor Resistance, Total Clicks, Heater Mode, Thermistor Resistance, Total Clicks, Heater Mode, Total Clicks, Heater Mode, Thermistor Resistance, Thermistor Resistance, Total Clicks, Heater Mode, Daily Gallons, Spent gallons, Total gallons, Temperature, Temperature Raw, Daily Gallons, Spent gallons, Total gallons, Temperature, Temperature Raw, Daily Gallons, Spent Gallons, Total gallons, Temperature, Temperature-Raw, Daily Gallons, Spent gallons, Total gallons, Temperature, Temperature Raw, Daily Gallons, Spent gallons, Total gallons, Temperature, Temperature Raw, Daily Gallons, Spent Gallons, Total gallons, Temperature, Temperature-Raw, Daily Gallons, Spent gallons, Total gallons, Temperature, Temperature Raw, Total Clicks, Heater Mode, Thermistor Resistance, Thermistor Resistance, Total Clicks, Heater Mode, Thermistor Resistance, Total Clicks, Heater Mode, Thermistor Resistance, Total Clicks, Heater Mode, Thermistor Resistance, Total Clicks, Heater Mode, Thermistor Resistance, Total Clicks, Heater Mode, Thermistor Resistance, Total Clicks, Heater Mode, Daily Gallons, Spent gallons, Total gallons, Temperature, Temperature Raw, Total Gallons, Temperature, Temperature Raw, Thermistor Resistance, Total Clicks, Heater Mode, Total Gallons, Temperature, Temperature Raw, Daily Gallons, Spent Gallons, Total gallons, Temperature, Temperature-Raw, Daily Gallons, Spent Gallons, Total gallons, Temperature, Temperature-Raw, Total Gallons, Temperature, Temperature Raw, Daily Gallons, Spent Gallons, Total gallons, Temperature, Temperature-Raw, Daily Gallons, Spent gallons, Total gallons, Temperature, Temperature Raw, Daily Gallons, Spent gallons, Total gallons, Temperature, Temperature Raw, Total Clicks, Heater Mode, Thermistor Resistance, Total Clicks, Heater Mode, Thermistor Resistance, Total Clicks, Heater Mode, Total Clicks, Heater Mode, Thermistor Resistance, Thermistor Resistance, Thermistor Resistance, Total Clicks, Heater Mode, Thermistor Resistance, Total Clicks, Heater Mode, Thermistor Resistance, Total Clicks, Heater Mode, Thermistor Resistance, Total Clicks, Heater Mode, Thermistor Resistance, Total Clicks, Heater Mode, Total Clicks, Heater Mode, Thermistor Resistance, Daily Gallons, Spent Gallons, Total gallons, Temperature, Temperature-Raw, Daily Gallons, Spent Gallons, Total gallons, Temperature, Temperature-Raw, Thermistor Resistance, Total Clicks, Heater Mode, Thermistor Resistance, Total Clicks, Heater Mode, Daily Gallons, Spent Gallons, Total gallons, Temperature, Temperature-Raw, Thermistor Resistance, Total Clicks, Heater Mode, Daily Gallons, Spent gallons, Total gallons, Temperature, Temperature Raw, Daily Gallons, Spent Gallons, Total gallons, Temperature, Temperature-Raw, Thermistor Resistance, Total Clicks, Heater Mode, Total Clicks, Heater Mode, Thermistor Resistance, Daily Gallons, Spent Gallons, Total gallons, Temperature, Temperature-Raw, Thermistor Resistance, Total Clicks, Heater Mode, Total Gallons, Temperature, Temperature Raw, Daily Gallons, Spent gallons, Total gallons, Daily Gallons, Spent gallons, Total gallons, Temperature, Total gallons, Temperature, Temperature Raw, Temperature, Temperature Raw, Total Clicks, Heater Mode, Thermistor Resistance, Total Clicks, Heater Mode, Thermistor Resistance, Thermistor Resistance, Total Clicks, Heater Mode, Daily Gallons, Temperature-Raw, Spent Gallons, Thermistor Resistance, Total Clicks, Heater Mode, Remaining Fuel in Tank, Temperature, Total Fuel Consumption, Clicks, mode, Thermistor]\n"
     ]
    }
   ],
   "source": [
    "ds = datasources[0]\n",
    "print(ds)\n",
    "print(\"---- Variables: \")\n",
    "print(api.get_variables(ds))"
   ]
  },
  {
   "cell_type": "code",
   "execution_count": 55,
   "metadata": {},
   "outputs": [
    {
     "name": "stdout",
     "output_type": "stream",
     "text": [
      "mode\n",
      "[{'timestamp': 1555542188661, 'value': 10650.0, 'context': {}, 'created_at': 1555542189951}]\n"
     ]
    }
   ],
   "source": [
    "print(variables[3])\n",
    "current_clicks = variables[1].get_values(100)\n",
    "print(current_clicks)"
   ]
  },
  {
   "cell_type": "code",
   "execution_count": null,
   "metadata": {},
   "outputs": [],
   "source": []
  }
 ],
 "metadata": {
  "kernelspec": {
   "display_name": "Python 3",
   "language": "python",
   "name": "python3"
  },
  "language_info": {
   "codemirror_mode": {
    "name": "ipython",
    "version": 3
   },
   "file_extension": ".py",
   "mimetype": "text/x-python",
   "name": "python",
   "nbconvert_exporter": "python",
   "pygments_lexer": "ipython3",
   "version": "3.6.7"
  }
 },
 "nbformat": 4,
 "nbformat_minor": 2
}
