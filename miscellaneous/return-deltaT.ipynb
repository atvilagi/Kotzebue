{
 "cells": [
  {
   "cell_type": "markdown",
   "metadata": {},
   "source": [
    "This function is pretty simple, the inputs are the outdoor temperature and thermistor resistance and outputs the delta temperature. That long equation is the conversion from thermistor resistance (ohms) to temperature (F)\n",
    "From here: http://www.vishay.com/docs/29049/ntcle100.pdf"
   ]
  },
  {
   "cell_type": "code",
   "execution_count": 10,
   "metadata": {},
   "outputs": [
    {
     "name": "stdout",
     "output_type": "stream",
     "text": [
      "33.550000000000004\n"
     ]
    }
   ],
   "source": [
    "import numpy as np\n",
    "\n",
    "def deltaT(outdoorT, thermistor):\n",
    "    indoorT = round(((3.354*10**-3 + (2.56985*10**-4)*np.log(thermistor/10000) + \n",
    "                (2.620131*10**-6)*np.log( thermistor/10000)**2 + \n",
    "                (6.383091*10**-8)*np.log( thermistor/10000)**3)**-1 - 273.15)*1.8 + 32, 2)\n",
    "    #print(indoorT)\n",
    "    return(indoorT - outdoorT)\n",
    "\n",
    "print(deltaT(32.1, 13248))"
   ]
  }
 ],
 "metadata": {
  "kernelspec": {
   "display_name": "Python 3",
   "language": "python",
   "name": "python3"
  },
  "language_info": {
   "codemirror_mode": {
    "name": "ipython",
    "version": 3
   },
   "file_extension": ".py",
   "mimetype": "text/x-python",
   "name": "python",
   "nbconvert_exporter": "python",
   "pygments_lexer": "ipython3",
   "version": "3.6.7"
  }
 },
 "nbformat": 4,
 "nbformat_minor": 2
}
